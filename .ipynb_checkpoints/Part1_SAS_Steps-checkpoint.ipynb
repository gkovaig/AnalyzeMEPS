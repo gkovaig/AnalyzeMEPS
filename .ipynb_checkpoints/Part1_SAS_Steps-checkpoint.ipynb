{
 "cells": [
  {
   "cell_type": "markdown",
   "metadata": {},
   "source": [
    "### MEPS Workshop, April 14-15, 2020\n",
    "### Analyzing MEPS-HC Data with SAS® 9.4M6 \n",
    "#### By Pradip K. Muhuri, PhD"
   ]
  },
  {
   "cell_type": "markdown",
   "metadata": {},
   "source": [
    "## SAS Steps"
   ]
  },
  {
   "cell_type": "markdown",
   "metadata": {},
   "source": [
    "#### SAS programs are primarily composed of one or more steps\n",
    "* DATA Step \n",
    "* PROC Step\n",
    "\n",
    "#### Common BASE SAS procedures used: \n",
    "* PROC FREQ \n",
    "* PROC MEANS\n",
    "* PROC SUMMARY\n",
    "* PROC SORT \n",
    "* PROC DATASETS\n",
    "* PROC FORMAT \n",
    "* PROC PRINT\n",
    "\n",
    "\n",
    "#### SAS/STAT Complex survey procedures used:\n",
    "* PROC SURVEYMEANS\n",
    "\n",
    "#### JupyterLab used as an interface to SAS to write, edit and submit SAS code\n"
   ]
  }
 ],
 "metadata": {
  "kernelspec": {
   "display_name": "SAS",
   "language": "sas",
   "name": "sas"
  },
  "language_info": {
   "codemirror_mode": "sas",
   "file_extension": ".sas",
   "mimetype": "text/x-sas",
   "name": "sas"
  }
 },
 "nbformat": 4,
 "nbformat_minor": 4
}
