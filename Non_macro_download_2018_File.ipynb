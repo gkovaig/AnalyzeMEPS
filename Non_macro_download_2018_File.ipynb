{
 "cells": [
  {
   "cell_type": "markdown",
   "metadata": {},
   "source": [
    "### Analyzing MEPS-HC Data with SAS® 9.4 M6 \n",
    "#### By Pradip K. Muhuri"
   ]
  },
  {
   "cell_type": "markdown",
   "metadata": {},
   "source": [
    "####  The SAS program is intended to:\n",
    "* Download a zipped file from the MEPS web site\n",
    "* Unzip the file\n",
    "* Restore the SAS data set from the PROC CPORT-created transport File\n",
    "* Generate the meta data from the SAS data set\n"
   ]
  },
  {
   "cell_type": "code",
   "execution_count": null,
   "metadata": {},
   "outputs": [],
   "source": [
    "options nodate nonumber nosource;\n",
    "ods html close;\n",
    "\n",
    "*** Task 1: Download a zipped SAS transport file from the MEPS web site;\n",
    "\n",
    "Filename GoThere \"C:\\Data\\h204ssp.zip\";\n",
    "proc http \n",
    "   url=\"https://meps.ahrq.gov/data_files/pufs/h204ssp.zip\" \n",
    "   out=GoThere;\n",
    "run;"
   ]
  },
  {
   "cell_type": "code",
   "execution_count": null,
   "metadata": {
    "scrolled": true
   },
   "outputs": [],
   "source": [
    "\n",
    "*** Task 2: Unzip the SAS transport data file;\n",
    "filename inzip zip \"c:\\Data\\h204ssp.zip\" ;\n",
    "filename sit \"C:\\Users\\pmuhuri\\downloads\\h204.ssp\" ;\n",
    "data _null_;\n",
    "infile inzip(h204.ssp) recfm=F lrecl=256 length=ln_length eof=eof unbuf;\n",
    "file sit lrecl=256 recfm=N;\n",
    "input @;\n",
    "put _infile_ $varying256. len_length;\n",
    "return;\n",
    "eof: stop;\n",
    "run;"
   ]
  },
  {
   "cell_type": "code",
   "execution_count": null,
   "metadata": {},
   "outputs": [],
   "source": [
    "*** Task 3: Restore the SAS data set from the PROC CPORT-created SAS transport file;\n",
    "libname MySDS \"C:\\Data\";\n",
    "Filename cpt \"C:\\Users\\pmuhuri\\downloads\\h204.ssp\";\n",
    "proc cimport infile=cpt lib=MYSDS;\n",
    "run;"
   ]
  },
  {
   "cell_type": "code",
   "execution_count": null,
   "metadata": {},
   "outputs": [],
   "source": [
    "*** Task 4: Get the N and the number of variables from the SAS data set;\n",
    "filename inzip zip \"c:\\Data\\h204ssp.zip\" ;\n",
    "filename sit \"C:\\Users\\pmuhuri\\downloads\\h204.ssp\" ;\n",
    "data _null_;\n",
    "infile inzip(h204.ssp) recfm=F lrecl=256 length=length eof=eof unbuf;\n",
    "file sit lrecl=256 recfm=N;\n",
    "input @;\n",
    "put _infile_ $varying256. length;\n",
    "return;\n",
    "eof: stop;\n",
    "run;\n",
    "ods html;\n",
    "libname MySDS \"C:\\Data\";\n",
    "proc sql;\n",
    "select memname\n",
    "    ,nobs format=comma9.\n",
    "    ,nvar format=comma9.\n",
    "from dictionary.tables\n",
    "  where libname='MYSDS' and memname='H204';\n",
    "quit;"
   ]
  },
  {
   "cell_type": "markdown",
   "metadata": {},
   "source": []
  }
 ],
 "metadata": {
  "kernelspec": {
   "display_name": "SAS",
   "language": "sas",
   "name": "sas"
  },
  "language_info": {
   "codemirror_mode": "sas",
   "file_extension": ".sas",
   "mimetype": "text/x-sas",
   "name": "sas"
  }
 },
 "nbformat": 4,
 "nbformat_minor": 4
}
