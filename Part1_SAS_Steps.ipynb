{
 "cells": [
  {
   "cell_type": "markdown",
   "metadata": {},
   "source": [
    "### MEPS Workshop, April 14-15, 2020\n",
    "### Analyzing MEPS-HC Data with SAS® 9.4M6 \n",
    "#### By Pradip K. Muhuri, PhD"
   ]
  },
  {
   "cell_type": "markdown",
   "metadata": {},
   "source": [
    "## SAS Steps"
   ]
  },
  {
   "cell_type": "markdown",
   "metadata": {},
   "source": [
    "#### SAS programs are primarily composed of one or more steps\n",
    "* DATA Step \n",
    "    * [Specify only the variables you want the new data set to contain using KEEP= Data Set Option with the input data set. Only those variables that are listed after the KEEP= data set option are available for processing.](https://documentation.sas.com/?docsetId=ledsoptsref&docsetTarget=p0vw9lyyxk1cxkn0zzfemrsr3t9a.htm&docsetVersion=9.4&locale=en)\n",
    "    * [Create a subppulation variable for DOMAIN Analysis](https://support.sas.com/kb/22/942.html)\n",
    "    ```\n",
    "      Because survey samples are from finite populations, the variance estimators for a given subgroup require all the observations in your sample, including observations that are outside the subgroup.    \n",
    "      ```\n",
    "      \n",
    "    * [Concatenating Data Sets](https://documentation.sas.com/?docsetId=basess&docsetTarget=n0njwz9w8z3ayon1neo3mkc9e9gg.htm&docsetVersion=9.4&locale=en)\n",
    "        * [increase the sample size, and therefore\n",
    "precision, for an estimate of a relatively rare subpopulation](https://support.sas.com/resources/papers/proceedings17/0767-2017.pdf)\n",
    "      \n",
    "* PROC Step\n",
    "\n",
    "#### Common BASE SAS procedures used: \n",
    "* PROC FREQ \n",
    "* PROC MEANS\n",
    "* PROC SUMMARY\n",
    "* PROC SORT \n",
    "* PROC DATASETS\n",
    "* PROC FORMAT \n",
    "* PROC PRINT\n",
    "\n",
    "\n",
    "#### SAS/STAT Complex survey procedures used:\n",
    "* PROC SURVEYMEANS\n",
    "    * [Documentation](https://documentation.sas.com/?docsetId=statug&docsetTarget=statug_surveymeans_syntax01.htm&docsetVersion=15.1&locale=en)\n",
    "    * [DOMAIN Analysis](https://documentation.sas.com/?docsetId=statug&docsetTarget=statug_surveymeans_examples02.htm&docsetVersion=15.1&locale=en)\n",
    "    * [Ratio Analysis](https://documentation.sas.com/?docsetId=statug&docsetTarget=statug_surveymeans_examples03.htm&docsetVersion=15.1&locale=en)\n",
    "    * [Comparing Domain Means](https://documentation.sas.com/?docsetId=statug&docsetTarget=statug_surveymeans_examples06.htm&docsetVersion=15.1&locale=en)\n",
    "\n",
    "\n",
    "* PROC SURVEYFREQ [Documentation](https://documentation.sas.com/?docsetId=statug&docsetTarget=statug_surveyfreq_gettingstarted.htm&docsetVersion=15.1&locale=en)\n",
    "\n",
    "* PROC SURVEYLOSTIC [Documentation](https://documentation.sas.com/?docsetId=statug&docsetTarget=statug_surveylogistic_examples02.htm&docsetVersion=15.1&locale=en)\n",
    "\n",
    "* PROC SURVEYREG [Documentation - DOMAIN Analysis](https://documentation.sas.com/?docsetId=statug&docsetTarget=statug_surveyreg_examples07.htm&docsetVersion=15.1&locale=en)\n",
    "\n",
    "* PROC SURVEPHREG Documentation[](https://documentation.sas.com/?docsetId=statug&docsetTarget=statug_surveyphreg_gettingstarted.htm&docsetVersion=15.1&locale=en)\n",
    "\n",
    "* PROC SURRVEYIMPUTE [Documentation](https://documentation.sas.com/?docsetId=statug&docsetTarget=statug_surveyimpute_gettingstarted.htm&docsetVersion=15.1&locale=en)\n",
    "\n",
    "* PROC SURVEYSELECT [Documentation](https://documentation.sas.com/?docsetId=statug&docsetVersion=15.1&docsetTarget=statug_surveyselect_gettingstarted.htm&locale=en)\n",
    "\n"
   ]
  },
  {
   "cell_type": "markdown",
   "metadata": {},
   "source": [
    "[Output Delivery System (ODS)](https://support.sas.com/resources/papers/proceedings/proceedings/sugi29/245-29.pdf)\n",
    "\n",
    "##### Create ODS output from:\n",
    "* procedure (PROC) output\n",
    "* table definition\n",
    "* style definition\n",
    "* destination"
   ]
  },
  {
   "cell_type": "markdown",
   "metadata": {},
   "source": [
    "#### JupyterLab used as an interface to SAS to write, edit and submit SAS code\n",
    "[Installing SASPy Kernel for Jupyter Notebooks and Jupyter Lab](https://communities.sas.com/t5/SAS-Communities-Library/Installing-SASPy-Kernel-for-Jupyter-Notebooks-and-Jupyter-Lab/ta-p/464873)\n",
    "\n",
    "[How do I use JupyterLab in SAS University Edition?](https://support.sas.com/software/products/university-edition/faq/jn_howtouse.htm)"
   ]
  },
  {
   "cell_type": "code",
   "execution_count": null,
   "metadata": {},
   "outputs": [],
   "source": []
  }
 ],
 "metadata": {
  "kernelspec": {
   "display_name": "SAS",
   "language": "sas",
   "name": "sas"
  },
  "language_info": {
   "codemirror_mode": "sas",
   "file_extension": ".sas",
   "mimetype": "text/x-sas",
   "name": "sas"
  }
 },
 "nbformat": 4,
 "nbformat_minor": 4
}
