{
 "cells": [
  {
   "cell_type": "markdown",
   "metadata": {},
   "source": [
    "Goal: To estimate the propotions of women receiving flu vaccinations by age group\n",
    "(35-64 vs. 65+ years) and compare with the corresponding estimates reported in [AHRQ/CFACT Research Findings # 41](https://meps.ahrq.gov/data_files/publications/rf41/rf41.pdf) - Tables 1.2 and 2.2\n"
   ]
  },
  {
   "cell_type": "code",
   "execution_count": null,
   "metadata": {},
   "outputs": [],
   "source": [
    "OPTIONS nocenter ps=58 ls=132 obs=max nodate nonumber varlenchk=nowarn ;\n",
    "libname new \"C:\\Data\";\n",
    "proc format;\n",
    "value age_f \n",
    "    35-64 = 'Ages 36-64'\n",
    "\t65-High ='Ages 65+';\n",
    "value sex_f\n",
    "    1 = 'Male'\n",
    "\t2 = 'Female';\n",
    "value flushot_f\n",
    "    -9, . = 'Not Ascetained'\n",
    "    1 = 'Yes'\n",
    "\t2 = 'No';"
   ]
  },
  {
   "cell_type": "code",
   "execution_count": null,
   "metadata": {},
   "outputs": [],
   "source": [
    "title \"In the past 12 months Had a flu shot or flu vaccine sprayed in nose, 2014\";\n",
    "title 'Proportion women with flu shot by age group (-9 for FLUSHOT included in a seprate category)';\n",
    "options nolabel;\n",
    "ods graphics off;\n",
    "PROC SURVEYMEANS DATA=new.h173 nobs mean stderr sum ;\n",
    "    VAR flushot;\n",
    "    STRATUM VARSTR;\n",
    "    CLUSTER VARPSU;\n",
    "    WEIGHT psaqwt;\n",
    "\tdomain age53x*sex('Female');\n",
    "\tformat age53x age_f. sex sex_f. flushot flushot_f.  ;\n",
    "\tclass flushot;\n",
    "ods select domain;\n",
    "RUN;\n"
   ]
  },
  {
   "cell_type": "code",
   "execution_count": null,
   "metadata": {},
   "outputs": [],
   "source": [
    "data h173;\n",
    "  set new.h173;\n",
    "  flushot_x = flushot;\n",
    "  if flushot = -9 then flushot_x=.; /*-9 changed to missing*/\n",
    "run;"
   ]
  },
  {
   "cell_type": "code",
   "execution_count": null,
   "metadata": {},
   "outputs": [],
   "source": [
    "title \"In the past 12 months Had a flu shot or flu vaccine sprayed in nose, 2014\";\n",
    "title2 'Proportion women with flu shot by age group (-9 changed to missing for FLUSHOT)';\n",
    "ods graphics off;\n",
    "PROC SURVEYMEANS DATA=h173 nobs mean stderr sum ;\n",
    "    VAR flushot_x;\n",
    "    STRATUM VARSTR;\n",
    "    CLUSTER VARPSU;\n",
    "    WEIGHT psaqwt;\n",
    "\tdomain age53x*sex('Female');\n",
    "\tformat age53x age_f. sex sex_f. flushot_x flushot_f. ;\n",
    "\tclass flushot_x;\n",
    "ods select domain;\n",
    "RUN;"
   ]
  }
 ],
 "metadata": {
  "kernelspec": {
   "display_name": "SAS",
   "language": "sas",
   "name": "sas"
  },
  "language_info": {
   "codemirror_mode": "sas",
   "file_extension": ".sas",
   "mimetype": "text/x-sas",
   "name": "sas"
  }
 },
 "nbformat": 4,
 "nbformat_minor": 4
}
