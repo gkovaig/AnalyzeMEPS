{
 "cells": [
  {
   "cell_type": "markdown",
   "metadata": {},
   "source": [
    "### Analyzing [MEPS-HC](https://www.federalregister.gov/documents/2019/07/11/2019-14770/agency-information-collection-activities-proposed-collection-comment-request) Data with SAS® 9.4M6 \n",
    "##### By Pradip K. Muhuri"
   ]
  },
  {
   "cell_type": "markdown",
   "metadata": {},
   "source": [
    "#### SAS Programming Basics and Complex Survey Data Analysis"
   ]
  },
  {
   "cell_type": "markdown",
   "metadata": {},
   "source": [
    "##### SAS programs typically include any combination of the following (4 main buletted items):\n",
    "* DATA Step \n",
    "    * [Specify only the variables you want the new data set to contain using KEEP= Data Set Option with the input data set. Only those variables that are listed after the KEEP= data set option are available for processing.](https://documentation.sas.com/?docsetId=ledsoptsref&docsetTarget=p0vw9lyyxk1cxkn0zzfemrsr3t9a.htm&docsetVersion=9.4&locale=en)\n",
    "    * Aggregate Data (e.g., Expenses for prescribed medicines at the prescription-fill-level to expenses at the person-level)  \n",
    "    * [Do match-merging](https://documentation.sas.com/?docsetId=lestmtsref&docsetTarget=n1i8w2bwu1fn5kn1gpxj18xttbb0.htm&docsetVersion=9.4&locale=en) to combine observations, for examole, from two data sets into a single observation in a new data set according to the values of a variable that is specified in the BY statement (e.g., merging person-level data with aggregated prescription expenses data at the person-level)\n",
    "    * [Concatenate data sets](https://documentation.sas.com/?docsetId=basess&docsetTarget=n0njwz9w8z3ayon1neo3mkc9e9gg.htm&docsetVersion=9.4&locale=en) [to increase the sample size, and therefore\n",
    "precision, for an estimate of a relatively rare subpopulation](https://support.sas.com/resources/papers/proceedings17/0767-2017.pdf) (e.g. pooling data from multiple years or panels)   \n",
    "\n",
    "    * Create new variables\n",
    "         * [Subpopulation variable for DOMAIN Analysis](https://support.sas.com/kb/22/942.html)\n",
    "    ```\n",
    "      Because survey samples are from finite populations, the variance \n",
    "      estimators for a given subgroup require all the observations \n",
    "      in your sample, including observations that are outside the subgroup.    \n",
    "      ```\n",
    "      \n",
    "         * Pooled sample weight variable, if data are pooled from multiple years or panels -\n",
    "         [MEPS Methodological Report](https://meps.ahrq.gov/data_files/publications/mr33/mr33.shtml)\n"
   ]
  },
  {
   "cell_type": "markdown",
   "metadata": {},
   "source": [
    "* PROC Step"
   ]
  },
  {
   "cell_type": "markdown",
   "metadata": {},
   "source": [
    "* Global Statements\n",
    "    * [LIBNAME Statement](https://documentation.sas.com/?docsetId=lestmtsglobal&docsetTarget=n1nk65k2vsfmxfn1wu17fntzszbp.htm&docsetVersion=9.4&locale=en) associates a SAS library (e.g., folder) with a libref (a shortcut name)\n",
    "    ```\n",
    "     LIBNAME mylib 'C:\\Data';\n",
    "    ```\n",
    "    * [OPTIONS Statement](https://documentation.sas.com/?docsetId=lestmtsref&docsetTarget=n0xqwo95drfa24n1hm5nlss33a3s.htm&docsetVersion=1.0&locale=ep)\n",
    "    specifies or changes the value of one or more SAS system options.\n",
    "    ```\n",
    "    OPTIONS nocenter nodate number;\n",
    "    \n",
    "    ```\n",
    "    * TITLE Statements\n"
   ]
  },
  {
   "cell_type": "markdown",
   "metadata": {},
   "source": [
    "  * [Macro variables, Macros, Macro Functions](https://www.sas.com/content/dam/SAS/support/en/sas-global-forum-proceedings/2019/3511-2019.pdf) [ and More](https://blogs.sas.com/content/sgf/2020/04/22/how-to-create-and-use-sas-macro-functions/?utm_source=feedburner&utm_medium=feed&utm_campaign=Feed%3A+TheSasTrainingPost+%28The+SAS+Learning+Post+-%3E+SAS+Users%29)"
   ]
  },
  {
   "cell_type": "markdown",
   "metadata": {},
   "source": [
    "#### [BASE procedures in SAS](https://www.sas.com/content/dam/SAS/support/en/sas-global-forum-proceedings/2019/3068-2019.pdf) (Examples)\n",
    "`PROC FREQ` `PROC MEANS` `PROC SUMMARY` `PROC SORT`\n",
    "`PROC DATASETS` `PROC FORMAT` `PROC PRINT`"
   ]
  },
  {
   "cell_type": "markdown",
   "metadata": {},
   "source": [
    "#### SAS/STAT Complex survey procedures (Examples)\n",
    "* PROC SURVEYMEANS\n",
    "    * [Documentation](https://documentation.sas.com/?docsetId=statug&docsetVersion=15.1&docsetTarget=statug_surveymeans_examples.htm&locale=en)\n",
    "    * [DOMAIN Analysis](https://documentation.sas.com/?docsetId=statug&docsetTarget=statug_surveymeans_examples02.htm&docsetVersion=15.1&locale=en)\n",
    "    * [Ratio Analysis](https://documentation.sas.com/?docsetId=statug&docsetTarget=statug_surveymeans_examples03.htm&docsetVersion=15.1&locale=en)\n",
    "    * [Comparing Domain Means](https://documentation.sas.com/?docsetId=statug&docsetTarget=statug_surveymeans_examples06.htm&docsetVersion=15.1&locale=en)\n",
    "\n",
    "* PROC SURVEYFREQ [Documentation](https://documentation.sas.com/?docsetId=statug&docsetTarget=statug_surveyfreq_gettingstarted.htm&docsetVersion=15.1&locale=en)\n",
    "\n",
    "* PROC SURVEYLOSTIC [Documentation](https://documentation.sas.com/?docsetId=statug&docsetTarget=statug_surveylogistic_examples02.htm&docsetVersion=15.1&locale=en)\n",
    "\n",
    "* PROC SURVEYREG [Documentation - DOMAIN Analysis](https://documentation.sas.com/?docsetId=statug&docsetTarget=statug_surveyreg_examples07.htm&docsetVersion=15.1&locale=en)\n",
    "\n",
    "* PROC SURVEYPHREG Documentation[](https://documentation.sas.com/?docsetId=statug&docsetTarget=statug_surveyphreg_gettingstarted.htm&docsetVersion=15.1&locale=en)\n",
    "\n",
    "* PROC SURVEYIMPUTE [Documentation](https://documentation.sas.com/?docsetId=statug&docsetTarget=statug_surveyimpute_gettingstarted.htm&docsetVersion=15.1&locale=en)\n",
    "\n",
    "* PROC SURVEYSELECT [Documentation](https://documentation.sas.com/?docsetId=statug&docsetVersion=15.1&docsetTarget=statug_surveyselect_gettingstarted.htm&locale=en)\n"
   ]
  },
  {
   "cell_type": "markdown",
   "metadata": {},
   "source": [
    "##### [Output Delivery System or ODS for](https://support.sas.com/resources/papers/proceedings/proceedings/sugi29/245-29.pdf)\n",
    "\n",
    "* Controlling the display of [ODS tables that PROC creates](https://documentation.sas.com/?docsetId=statug&docsetTarget=statug_surveymeans_details83.htm&docsetVersion=15.1&locale=en)\n",
    "* Saving ODS output tables from SAS procedure (e.g, PROC SURVEYMEANS) to a SAS data set\n",
    "* Style definition\n",
    "* Destination"
   ]
  },
  {
   "cell_type": "markdown",
   "metadata": {},
   "source": [
    "#### JupyterLab can be used as an interface to Licenced SAS to write, edit and submit SAS code, which would require\n",
    "\n",
    "[Installing SASPy Kernel for Jupyter Notebooks and Jupyter Lab](https://communities.sas.com/t5/SAS-Communities-Library/Installing-SASPy-Kernel-for-Jupyter-Notebooks-and-Jupyter-Lab/ta-p/464873)\n",
    "\n",
    "#### JupyterLab can also be used from Oracle VirtualBox\n",
    "\n",
    "[How do I use JupyterLab in SAS University Edition?](https://support.sas.com/software/products/university-edition/faq/jn_howtouse.htm)"
   ]
  },
  {
   "cell_type": "markdown",
   "metadata": {},
   "source": [
    "#### [Learning data prep in CASL](https://blogs.sas.com/content/sgf/2020/03/16/challenge-accepted-learning-data-prep-in-casl/)"
   ]
  }
 ],
 "metadata": {
  "kernelspec": {
   "display_name": "SAS",
   "language": "sas",
   "name": "sas"
  },
  "language_info": {
   "codemirror_mode": "sas",
   "file_extension": ".sas",
   "mimetype": "text/x-sas",
   "name": "sas"
  }
 },
 "nbformat": 4,
 "nbformat_minor": 4
}
