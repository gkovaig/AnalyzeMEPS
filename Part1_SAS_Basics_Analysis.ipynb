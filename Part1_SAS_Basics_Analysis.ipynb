{
 "cells": [
  {
   "cell_type": "markdown",
   "metadata": {},
   "source": [
    "### Analyzing [MEPS-HC](https://www.federalregister.gov/documents/2019/07/11/2019-14770/agency-information-collection-activities-proposed-collection-comment-request) Data with SAS® 9.4M6 \n",
    "#### SAS Programming Basics and Complex Survey Data Analysis\n",
    "#### By Pradip K. Muhuri, PhD"
   ]
  },
  {
   "cell_type": "markdown",
   "metadata": {},
   "source": [
    "#### SAS programs typically include any combination of the following:\n",
    "#### 1. DATA Step (task examples)\n",
    "\n",
    "   * [Use KEEP= data set option on the SET statement to keep the specified variables when SAS reads the input data set. Use RENAME= option to apply the new name to the variable in the input data set before processing it.](https://documentation.sas.com/?docsetId=ledsoptsref&docsetTarget=p0vw9lyyxk1cxkn0zzfemrsr3t9a.htm&docsetVersion=9.4&locale=en)\n",
    "   * Aggregate the input data set on a particular variable. For example, you need to summarize the prescription-level expenses at the person-level in MEPS.  You do this by summing-up the fill-level expenses for prescribed medicines on DUPERSID. \n",
    "   * You [match-merge](https://documentation.sas.com/?docsetId=lestmtsref&docsetTarget=n1i8w2bwu1fn5kn1gpxj18xttbb0.htm&docsetVersion=9.4&locale=en) data sets when you need to combine observations from two data sets into a single observation in a new data set.  You do this according to the values of a variable that is specified in the BY statement (e.g., merging person-level data with aggregated prescription expenses data at the person-level)\n",
    "   * You [concatenate data sets](https://documentation.sas.com/?docsetId=basess&docsetTarget=n0njwz9w8z3ayon1neo3mkc9e9gg.htm&docsetVersion=9.4&locale=en) when you [want to increase the sample size, and therefore\n",
    "precision, for an estimate of a relatively rare subpopulation](https://support.sas.com/resources/papers/proceedings17/0767-2017.pdf) (e.g., pooling data from multiple years or panels in MEPS to generate an estimate for a small subpopulation)   \n",
    "\n",
    "   * Create new variables\n",
    "        * [Subpopulation variable for DOMAIN Analysis](https://support.sas.com/kb/22/942.html)\n",
    "    ```\n",
    "      Because survey samples are from finite populations, the variance \n",
    "      estimators for a given subgroup require all the observations \n",
    "      in your sample, including observations that are outside the subgroup.    \n",
    "      ```\n",
    "      \n",
    "        * Sample weight variable in the pooled data set (when data sets are combined from multiple years or panels) - [See MEPS Methodological Report #33](https://meps.ahrq.gov/data_files/publications/mr33/mr33.shtml)\n"
   ]
  },
  {
   "cell_type": "markdown",
   "metadata": {},
   "source": [
    "#### 2. PROC Step (Examples)"
   ]
  },
  {
   "cell_type": "markdown",
   "metadata": {},
   "source": [
    "#### Base Procedures in SAS [(Here)](https://www.sas.com/content/dam/SAS/support/en/sas-global-forum-proceedings/2019/3068-2019.pdf) \n",
    "Examples.\n",
    "`PROC FREQ` `PROC MEANS` `PROC SUMMARY` `PROC SORT`\n",
    "`PROC DATASETS` `PROC FORMAT` `PROC PRINT`"
   ]
  },
  {
   "cell_type": "markdown",
   "metadata": {},
   "source": [
    "#### SAS/STAT Complex Survey Procedures (Examples)\n",
    "* PROC SURVEYMEANS\n",
    "    * [Documentation](https://documentation.sas.com/?docsetId=statug&docsetVersion=15.1&docsetTarget=statug_surveymeans_examples.htm&locale=en)\n",
    "    * [DOMAIN Analysis](https://documentation.sas.com/?docsetId=statug&docsetTarget=statug_surveymeans_examples02.htm&docsetVersion=15.1&locale=en)\n",
    "    * [Ratio Analysis](https://documentation.sas.com/?docsetId=statug&docsetTarget=statug_surveymeans_examples03.htm&docsetVersion=15.1&locale=en)\n",
    "    * [Comparing Domain Means](https://documentation.sas.com/?docsetId=statug&docsetTarget=statug_surveymeans_examples06.htm&docsetVersion=15.1&locale=en)\n",
    "\n",
    "* PROC SURVEYFREQ [Documentation](https://documentation.sas.com/?docsetId=statug&docsetTarget=statug_surveyfreq_gettingstarted.htm&docsetVersion=15.1&locale=en)\n",
    "\n",
    "* PROC SURVEYLOSTIC [Documentation](https://documentation.sas.com/?docsetId=statug&docsetTarget=statug_surveylogistic_examples02.htm&docsetVersion=15.1&locale=en)\n",
    "\n",
    "* PROC SURVEYREG [Documentation - DOMAIN Analysis](https://documentation.sas.com/?docsetId=statug&docsetTarget=statug_surveyreg_examples07.htm&docsetVersion=15.1&locale=en)\n",
    "\n",
    "* PROC SURVEYPHREG [Documentation](https://documentation.sas.com/?docsetId=statug&docsetTarget=statug_surveyphreg_gettingstarted.htm&docsetVersion=15.1&locale=en)\n",
    "\n",
    "* PROC SURVEYIMPUTE [Documentation](https://documentation.sas.com/?docsetId=statug&docsetTarget=statug_surveyimpute_gettingstarted.htm&docsetVersion=15.1&locale=en)\n",
    "\n",
    "* PROC SURVEYSELECT [Documentation](https://documentation.sas.com/?docsetId=statug&docsetVersion=15.1&docsetTarget=statug_surveyselect_gettingstarted.htm&locale=en)\n"
   ]
  },
  {
   "cell_type": "markdown",
   "metadata": {},
   "source": [
    "#### Output Delivery System (ODS) [can be used for](https://support.sas.com/resources/papers/proceedings/proceedings/sugi29/245-29.pdf)\n",
    "\n",
    "* controlling the display of [ODS tables that PROC creates](https://documentation.sas.com/?docsetId=statug&docsetTarget=statug_surveymeans_details83.htm&docsetVersion=15.1&locale=en)\n",
    "* saving ODS output tables from SAS procedure (e.g, PROC SURVEYMEANS) to a SAS data set\n",
    "* defining output style\n",
    "* specifying output destination"
   ]
  },
  {
   "cell_type": "markdown",
   "metadata": {},
   "source": [
    "#### 3. Global Statements\n",
    "   * [LIBNAME Statement](https://documentation.sas.com/?docsetId=lestmtsglobal&docsetTarget=n1nk65k2vsfmxfn1wu17fntzszbp.htm&docsetVersion=9.4&locale=en) associates a SAS library (e.g., folder) with a libref (a shortcut name).\n",
    "    ```\n",
    "     LIBNAME mylib 'C:\\Data';\n",
    "    ```\n",
    "   * [OPTIONS Statement](https://documentation.sas.com/?docsetId=lestmtsref&docsetTarget=n0xqwo95drfa24n1hm5nlss33a3s.htm&docsetVersion=1.0&locale=ep)\n",
    "    specifies or changes the value of one or more SAS system options.\n",
    "    ```\n",
    "    OPTIONS nocenter nodate number;\n",
    "    \n",
    "    ```\n",
    "   * [TITLE Statement](https://documentation.sas.com/?docsetId=lestmtsglobal&docsetTarget=p10gcmrmf83iaxn1ilrx4pra969n.htm&docsetVersion=9.4&locale=en) specifies title lines for SAS output.\n",
    "   * [FOOTENOTE Statement](https://documentation.sas.com/?docsetId=grstatproc&docsetTarget=n1ukd9sqgqiwwhn1mrx4c1rbse1j.htm&docsetVersion=9.4&locale=en)\n",
    "controls the content, appearance, and placement of footnote text"
   ]
  },
  {
   "cell_type": "markdown",
   "metadata": {},
   "source": [
    "#### 4. Macro Variables, Macros, Macro Functions ([Here](https://www.sas.com/content/dam/SAS/support/en/sas-global-forum-proceedings/2019/3511-2019.pdf) [ and more](https://blogs.sas.com/content/sgf/2020/04/22/how-to-create-and-use-sas-macro-functions/?utm_source=feedburner&utm_medium=feed&utm_campaign=Feed%3A+TheSasTrainingPost+%28The+SAS+Learning+Post+-%3E+SAS+Users%29))"
   ]
  },
  {
   "cell_type": "markdown",
   "metadata": {},
   "source": [
    "#### JupyterLab [(Jupyter Notebook)](https://blog.jupyter.org/jupyterlab-is-ready-for-users-5a6f039b8906) \n",
    "\n",
    "* is a flexible tool that helps you create readable analyses by keeping code, images, comments/references, formulae and plots together. [(Reference)](https://www.dataquest.io/blog/jupyter-notebook-tips-tricks-shortcuts/)\n",
    "\n",
    "* can be used as an interface, in addition to SAS Windowing Environment, for licenced version of SAS to write, edit and submit SAS code; however, JupyterLab would require installation along with SAS Kernel as SASPy [(Installation instructions here)](https://communities.sas.com/t5/SAS-Communities-Library/Installing-SASPy-Kernel-for-Jupyter-Notebooks-and-Jupyter-Lab/ta-p/464873) \n",
    "\n",
    "* comes along with SAS University Edition (Open Source) in Oracle VirtualBox [- JupyterLab comes as preinstalled](https://support.sas.com/software/products/university-edition/faq/jn_howtouse.htm)"
   ]
  }
 ],
 "metadata": {
  "kernelspec": {
   "display_name": "SAS",
   "language": "sas",
   "name": "sas"
  },
  "language_info": {
   "codemirror_mode": "sas",
   "file_extension": ".sas",
   "mimetype": "text/x-sas",
   "name": "sas"
  }
 },
 "nbformat": 4,
 "nbformat_minor": 4
}
